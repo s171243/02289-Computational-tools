{
 "cells": [
  {
   "cell_type": "code",
   "execution_count": 6,
   "metadata": {
    "pycharm": {
     "is_executing": true
    }
   },
   "outputs": [
    {
     "name": "stdout",
     "output_type": "stream",
     "text": [
      "The followings are files in the dataset: \n",
      "x.txt\n"
     ]
    }
   ],
   "source": [
    "import numpy as np # linear algebra\n",
    "import pandas as pd # data processing, CSV file I/O (e.g. pd.read_csv)\n",
    "from pandas_profiling import ProfileReport\n",
    "import matplotlib.pyplot as plt\n",
    "plt.rcParams[\"figure.figsize\"] = (10, 6)\n",
    "USER = \"MADS\"\n",
    "# Input data files are available in the \"../input/\" directory.\n",
    "# For example, running this (by clicking run or pressing Shift+Enter) will list all files under the input directory\n",
    "\n",
    "print('Files in the dataset: ')\n",
    "import os\n",
    "for dirname, _, filenames in os.walk('.\\data'):\n",
    "    for filename in filenames:\n",
    "        print(os.path.join(filename))"
   ]
  },
  {
   "cell_type": "code",
   "execution_count": null,
   "metadata": {},
   "outputs": [],
   "source": [
    "import kaggle\n",
    "\n",
    "kaggle.api.authenticate()\n",
    "\n",
    "kaggle.api.dataset_download_files('Junyi Academy Online Learning Activity Dataset', path='data', unzip=True)"
   ]
  },
  {
   "cell_type": "code",
   "execution_count": 8,
   "metadata": {},
   "outputs": [],
   "source": [
    "if USER == \"MADS\":\n",
    "    df_InfoUser = pd.read_csv('../final_proj/data/Info_UserData.csv')\n",
    "    df_LogProblem = pd.read_csv('../final_proj/data/Log_Problem.csv')\n",
    "    df_InfoContent = pd.read_csv('../final_proj/data/Info_Content.csv')\n",
    "else:   \n",
    "    df_InfoUser = pd.read_csv('data/Info_UserData.csv')\n",
    "    df_LogProblem = pd.read_csv('data/Log_Problem.csv')\n",
    "    df_InfoContent = pd.read_csv('data/Info_Content.csv')"
   ]
  },
  {
   "cell_type": "code",
   "execution_count": 9,
   "metadata": {},
   "outputs": [
    {
     "data": {
      "text/html": [
       "<div>\n",
       "<style scoped>\n",
       "    .dataframe tbody tr th:only-of-type {\n",
       "        vertical-align: middle;\n",
       "    }\n",
       "\n",
       "    .dataframe tbody tr th {\n",
       "        vertical-align: top;\n",
       "    }\n",
       "\n",
       "    .dataframe thead th {\n",
       "        text-align: right;\n",
       "    }\n",
       "</style>\n",
       "<table border=\"1\" class=\"dataframe\">\n",
       "  <thead>\n",
       "    <tr style=\"text-align: right;\">\n",
       "      <th></th>\n",
       "      <th>uuid</th>\n",
       "      <th>gender</th>\n",
       "      <th>points</th>\n",
       "      <th>badges_cnt</th>\n",
       "      <th>first_login_date_TW</th>\n",
       "      <th>user_grade</th>\n",
       "      <th>user_city</th>\n",
       "      <th>has_teacher_cnt</th>\n",
       "      <th>is_self_coach</th>\n",
       "      <th>has_student_cnt</th>\n",
       "      <th>belongs_to_class_cnt</th>\n",
       "      <th>has_class_cnt</th>\n",
       "    </tr>\n",
       "  </thead>\n",
       "  <tbody>\n",
       "    <tr>\n",
       "      <th>0</th>\n",
       "      <td>Y2RcCdmUJAYPUAIDElo4nE9KrkLLFzUIRdexG+ipaZQ=</td>\n",
       "      <td>NaN</td>\n",
       "      <td>18300</td>\n",
       "      <td>1</td>\n",
       "      <td>2019-01-24</td>\n",
       "      <td>1</td>\n",
       "      <td>kh</td>\n",
       "      <td>0</td>\n",
       "      <td>False</td>\n",
       "      <td>0</td>\n",
       "      <td>0</td>\n",
       "      <td>0</td>\n",
       "    </tr>\n",
       "    <tr>\n",
       "      <th>1</th>\n",
       "      <td>lw/Rchfvl9q1UDaQRmeE6QJDJeXAK7nt56RvUvqxD/8=</td>\n",
       "      <td>NaN</td>\n",
       "      <td>6468</td>\n",
       "      <td>0</td>\n",
       "      <td>2019-01-24</td>\n",
       "      <td>1</td>\n",
       "      <td>ntpc</td>\n",
       "      <td>1</td>\n",
       "      <td>False</td>\n",
       "      <td>0</td>\n",
       "      <td>1</td>\n",
       "      <td>0</td>\n",
       "    </tr>\n",
       "    <tr>\n",
       "      <th>2</th>\n",
       "      <td>ncVYyCw3osV77X9M+4NbI7LvBR5UiB4ix6Ca+baQArA=</td>\n",
       "      <td>male</td>\n",
       "      <td>4703</td>\n",
       "      <td>0</td>\n",
       "      <td>2019-01-24</td>\n",
       "      <td>1</td>\n",
       "      <td>tp</td>\n",
       "      <td>0</td>\n",
       "      <td>False</td>\n",
       "      <td>0</td>\n",
       "      <td>0</td>\n",
       "      <td>0</td>\n",
       "    </tr>\n",
       "    <tr>\n",
       "      <th>3</th>\n",
       "      <td>J7Tbo1x2WtRpPuXeX7lWT9tkzWlSJeubl8UWjNmHh+4=</td>\n",
       "      <td>NaN</td>\n",
       "      <td>15525</td>\n",
       "      <td>1</td>\n",
       "      <td>2019-01-24</td>\n",
       "      <td>2</td>\n",
       "      <td>ntpc</td>\n",
       "      <td>0</td>\n",
       "      <td>False</td>\n",
       "      <td>0</td>\n",
       "      <td>0</td>\n",
       "      <td>0</td>\n",
       "    </tr>\n",
       "    <tr>\n",
       "      <th>4</th>\n",
       "      <td>qijKzROzz1LmCaCxHJ3mOBOtjW/q4kW80tnpPmXHVYQ=</td>\n",
       "      <td>NaN</td>\n",
       "      <td>7945</td>\n",
       "      <td>0</td>\n",
       "      <td>2019-01-24</td>\n",
       "      <td>2</td>\n",
       "      <td>km</td>\n",
       "      <td>1</td>\n",
       "      <td>False</td>\n",
       "      <td>0</td>\n",
       "      <td>1</td>\n",
       "      <td>0</td>\n",
       "    </tr>\n",
       "  </tbody>\n",
       "</table>\n",
       "</div>"
      ],
      "text/plain": [
       "                                           uuid gender  points  badges_cnt  \\\n",
       "0  Y2RcCdmUJAYPUAIDElo4nE9KrkLLFzUIRdexG+ipaZQ=    NaN   18300           1   \n",
       "1  lw/Rchfvl9q1UDaQRmeE6QJDJeXAK7nt56RvUvqxD/8=    NaN    6468           0   \n",
       "2  ncVYyCw3osV77X9M+4NbI7LvBR5UiB4ix6Ca+baQArA=   male    4703           0   \n",
       "3  J7Tbo1x2WtRpPuXeX7lWT9tkzWlSJeubl8UWjNmHh+4=    NaN   15525           1   \n",
       "4  qijKzROzz1LmCaCxHJ3mOBOtjW/q4kW80tnpPmXHVYQ=    NaN    7945           0   \n",
       "\n",
       "  first_login_date_TW  user_grade user_city  has_teacher_cnt  is_self_coach  \\\n",
       "0          2019-01-24           1        kh                0          False   \n",
       "1          2019-01-24           1      ntpc                1          False   \n",
       "2          2019-01-24           1        tp                0          False   \n",
       "3          2019-01-24           2      ntpc                0          False   \n",
       "4          2019-01-24           2        km                1          False   \n",
       "\n",
       "   has_student_cnt  belongs_to_class_cnt  has_class_cnt  \n",
       "0                0                     0              0  \n",
       "1                0                     1              0  \n",
       "2                0                     0              0  \n",
       "3                0                     0              0  \n",
       "4                0                     1              0  "
      ]
     },
     "execution_count": 9,
     "metadata": {},
     "output_type": "execute_result"
    }
   ],
   "source": [
    "df_InfoUser.head(5)"
   ]
  },
  {
   "cell_type": "code",
   "execution_count": 10,
   "metadata": {},
   "outputs": [
    {
     "data": {
      "text/html": [
       "<div>\n",
       "<style scoped>\n",
       "    .dataframe tbody tr th:only-of-type {\n",
       "        vertical-align: middle;\n",
       "    }\n",
       "\n",
       "    .dataframe tbody tr th {\n",
       "        vertical-align: top;\n",
       "    }\n",
       "\n",
       "    .dataframe thead th {\n",
       "        text-align: right;\n",
       "    }\n",
       "</style>\n",
       "<table border=\"1\" class=\"dataframe\">\n",
       "  <thead>\n",
       "    <tr style=\"text-align: right;\">\n",
       "      <th></th>\n",
       "      <th>timestamp_TW</th>\n",
       "      <th>uuid</th>\n",
       "      <th>ucid</th>\n",
       "      <th>upid</th>\n",
       "      <th>problem_number</th>\n",
       "      <th>exercise_problem_repeat_session</th>\n",
       "      <th>is_correct</th>\n",
       "      <th>total_sec_taken</th>\n",
       "      <th>total_attempt_cnt</th>\n",
       "      <th>used_hint_cnt</th>\n",
       "      <th>is_hint_used</th>\n",
       "      <th>is_downgrade</th>\n",
       "      <th>is_upgrade</th>\n",
       "      <th>level</th>\n",
       "    </tr>\n",
       "  </thead>\n",
       "  <tbody>\n",
       "    <tr>\n",
       "      <th>0</th>\n",
       "      <td>2019-05-26 21:00:00 UTC</td>\n",
       "      <td>FLy+lviglNR5Y1l0Xiijnl6QHySBcpKHJLCtQ6ogm2Q=</td>\n",
       "      <td>KDOmuTrY/IJzDP4kIgIYCBiGyTymsJ8Iy4cDB35WGYg=</td>\n",
       "      <td>Vbs92l4JmdiWkUEm/iahxnUTaac2oN1IlUtXB7JcfoE=</td>\n",
       "      <td>18</td>\n",
       "      <td>2</td>\n",
       "      <td>True</td>\n",
       "      <td>33</td>\n",
       "      <td>1</td>\n",
       "      <td>0</td>\n",
       "      <td>False</td>\n",
       "      <td>False</td>\n",
       "      <td>True</td>\n",
       "      <td>3</td>\n",
       "    </tr>\n",
       "    <tr>\n",
       "      <th>1</th>\n",
       "      <td>2019-05-17 16:30:00 UTC</td>\n",
       "      <td>+Gqj2nalc6M9fusyVECTC0AN7UQdDQTXESIuElkDltU=</td>\n",
       "      <td>COZ39Wo+uIUO2s7c2VGEHjJf6Vx0xifxVAiaeHtaTdk=</td>\n",
       "      <td>Ek+pIeHNNoEo0tGEq91eBcBmGgy3+A5RWhpj95zTyHM=</td>\n",
       "      <td>4</td>\n",
       "      <td>1</td>\n",
       "      <td>True</td>\n",
       "      <td>8</td>\n",
       "      <td>1</td>\n",
       "      <td>0</td>\n",
       "      <td>False</td>\n",
       "      <td>NaN</td>\n",
       "      <td>NaN</td>\n",
       "      <td>0</td>\n",
       "    </tr>\n",
       "    <tr>\n",
       "      <th>2</th>\n",
       "      <td>2019-05-15 19:15:00 UTC</td>\n",
       "      <td>6D5QN8j8ng/VR74ES3A0zqAj0bIFFyaKjKEj8ZyXjQ8=</td>\n",
       "      <td>TwyqyV1uJYlDAX8wX/PtTCVZEBo/APIVfTzzleGkNCQ=</td>\n",
       "      <td>1MBa2f5Qog4JBoAuUfJf0fxeJctdEirAqKgfsg246eI=</td>\n",
       "      <td>9</td>\n",
       "      <td>1</td>\n",
       "      <td>True</td>\n",
       "      <td>17</td>\n",
       "      <td>1</td>\n",
       "      <td>0</td>\n",
       "      <td>False</td>\n",
       "      <td>NaN</td>\n",
       "      <td>NaN</td>\n",
       "      <td>0</td>\n",
       "    </tr>\n",
       "    <tr>\n",
       "      <th>3</th>\n",
       "      <td>2019-05-05 14:45:00 UTC</td>\n",
       "      <td>GgTZuCqZXObthtK6GAwqvlHrTMm5pKHWeezQxL/pcKc=</td>\n",
       "      <td>tBo6ECyT8IlKAM8UhQHWkqv92PRLcSiwuerfC7vNX+w=</td>\n",
       "      <td>kdMy2nG+QVMjPkuaMEWs0yV/sYZVoG1vm7zM0fCy+qk=</td>\n",
       "      <td>2</td>\n",
       "      <td>1</td>\n",
       "      <td>True</td>\n",
       "      <td>10</td>\n",
       "      <td>1</td>\n",
       "      <td>0</td>\n",
       "      <td>False</td>\n",
       "      <td>NaN</td>\n",
       "      <td>NaN</td>\n",
       "      <td>0</td>\n",
       "    </tr>\n",
       "    <tr>\n",
       "      <th>4</th>\n",
       "      <td>2019-05-14 16:45:00 UTC</td>\n",
       "      <td>JMNKWoU0CkMSzgQ8bCnmCYlD8jEzAVge3lHMYLXKM2g=</td>\n",
       "      <td>vVpSKAMQbTMvtdERR0ksOeRmmaFt0R210t4Z//0RpPA=</td>\n",
       "      <td>jjPR8fmkLSFoCQQYB4g6kI8mgdcK3sKtMirKUvfmZIk=</td>\n",
       "      <td>6</td>\n",
       "      <td>1</td>\n",
       "      <td>True</td>\n",
       "      <td>98</td>\n",
       "      <td>1</td>\n",
       "      <td>0</td>\n",
       "      <td>False</td>\n",
       "      <td>NaN</td>\n",
       "      <td>NaN</td>\n",
       "      <td>0</td>\n",
       "    </tr>\n",
       "  </tbody>\n",
       "</table>\n",
       "</div>"
      ],
      "text/plain": [
       "              timestamp_TW                                          uuid  \\\n",
       "0  2019-05-26 21:00:00 UTC  FLy+lviglNR5Y1l0Xiijnl6QHySBcpKHJLCtQ6ogm2Q=   \n",
       "1  2019-05-17 16:30:00 UTC  +Gqj2nalc6M9fusyVECTC0AN7UQdDQTXESIuElkDltU=   \n",
       "2  2019-05-15 19:15:00 UTC  6D5QN8j8ng/VR74ES3A0zqAj0bIFFyaKjKEj8ZyXjQ8=   \n",
       "3  2019-05-05 14:45:00 UTC  GgTZuCqZXObthtK6GAwqvlHrTMm5pKHWeezQxL/pcKc=   \n",
       "4  2019-05-14 16:45:00 UTC  JMNKWoU0CkMSzgQ8bCnmCYlD8jEzAVge3lHMYLXKM2g=   \n",
       "\n",
       "                                           ucid  \\\n",
       "0  KDOmuTrY/IJzDP4kIgIYCBiGyTymsJ8Iy4cDB35WGYg=   \n",
       "1  COZ39Wo+uIUO2s7c2VGEHjJf6Vx0xifxVAiaeHtaTdk=   \n",
       "2  TwyqyV1uJYlDAX8wX/PtTCVZEBo/APIVfTzzleGkNCQ=   \n",
       "3  tBo6ECyT8IlKAM8UhQHWkqv92PRLcSiwuerfC7vNX+w=   \n",
       "4  vVpSKAMQbTMvtdERR0ksOeRmmaFt0R210t4Z//0RpPA=   \n",
       "\n",
       "                                           upid  problem_number  \\\n",
       "0  Vbs92l4JmdiWkUEm/iahxnUTaac2oN1IlUtXB7JcfoE=              18   \n",
       "1  Ek+pIeHNNoEo0tGEq91eBcBmGgy3+A5RWhpj95zTyHM=               4   \n",
       "2  1MBa2f5Qog4JBoAuUfJf0fxeJctdEirAqKgfsg246eI=               9   \n",
       "3  kdMy2nG+QVMjPkuaMEWs0yV/sYZVoG1vm7zM0fCy+qk=               2   \n",
       "4  jjPR8fmkLSFoCQQYB4g6kI8mgdcK3sKtMirKUvfmZIk=               6   \n",
       "\n",
       "   exercise_problem_repeat_session  is_correct  total_sec_taken  \\\n",
       "0                                2        True               33   \n",
       "1                                1        True                8   \n",
       "2                                1        True               17   \n",
       "3                                1        True               10   \n",
       "4                                1        True               98   \n",
       "\n",
       "   total_attempt_cnt  used_hint_cnt  is_hint_used is_downgrade is_upgrade  \\\n",
       "0                  1              0         False        False       True   \n",
       "1                  1              0         False          NaN        NaN   \n",
       "2                  1              0         False          NaN        NaN   \n",
       "3                  1              0         False          NaN        NaN   \n",
       "4                  1              0         False          NaN        NaN   \n",
       "\n",
       "   level  \n",
       "0      3  \n",
       "1      0  \n",
       "2      0  \n",
       "3      0  \n",
       "4      0  "
      ]
     },
     "execution_count": 10,
     "metadata": {},
     "output_type": "execute_result"
    }
   ],
   "source": [
    "df_LogProblem.head(5)"
   ]
  },
  {
   "cell_type": "code",
   "execution_count": 11,
   "metadata": {
    "scrolled": true
   },
   "outputs": [
    {
     "data": {
      "text/html": [
       "<div>\n",
       "<style scoped>\n",
       "    .dataframe tbody tr th:only-of-type {\n",
       "        vertical-align: middle;\n",
       "    }\n",
       "\n",
       "    .dataframe tbody tr th {\n",
       "        vertical-align: top;\n",
       "    }\n",
       "\n",
       "    .dataframe thead th {\n",
       "        text-align: right;\n",
       "    }\n",
       "</style>\n",
       "<table border=\"1\" class=\"dataframe\">\n",
       "  <thead>\n",
       "    <tr style=\"text-align: right;\">\n",
       "      <th></th>\n",
       "      <th>ucid</th>\n",
       "      <th>content_pretty_name</th>\n",
       "      <th>content_kind</th>\n",
       "      <th>difficulty</th>\n",
       "      <th>subject</th>\n",
       "      <th>learning_stage</th>\n",
       "      <th>level1_id</th>\n",
       "      <th>level2_id</th>\n",
       "      <th>level3_id</th>\n",
       "      <th>level4_id</th>\n",
       "    </tr>\n",
       "  </thead>\n",
       "  <tbody>\n",
       "    <tr>\n",
       "      <th>0</th>\n",
       "      <td>odIwFdIiecFwVUAEEV40K3MSuCSlIZkbq92Zp9tkZq8=</td>\n",
       "      <td>【基礎】怎樣解題：數量關係</td>\n",
       "      <td>Exercise</td>\n",
       "      <td>easy</td>\n",
       "      <td>math</td>\n",
       "      <td>elementary</td>\n",
       "      <td>aH0Dz0KdH9gio7rrcGRHvrmd9vcd/0WJbeEFB7qeUKA=</td>\n",
       "      <td>ICgke8JJv5eapCPwyj1aco8PEtoBkUbTZYIqxmYtqBk=</td>\n",
       "      <td>bo3jsx1beVLEZ+2sckxdZNYnlLpVS7hb5lWU2baQ66k=</td>\n",
       "      <td>KPJMQebU0O24+NzlQ4udb2BXLlKV1Hte61+hV5Xb+oU=</td>\n",
       "    </tr>\n",
       "    <tr>\n",
       "      <th>1</th>\n",
       "      <td>dfeeBaa8zDhWS6nu7zeXKwLyi4zqEajI3tJM9/fSBPM=</td>\n",
       "      <td>【基礎】和差問題 1</td>\n",
       "      <td>Exercise</td>\n",
       "      <td>easy</td>\n",
       "      <td>math</td>\n",
       "      <td>elementary</td>\n",
       "      <td>aH0Dz0KdH9gio7rrcGRHvrmd9vcd/0WJbeEFB7qeUKA=</td>\n",
       "      <td>ICgke8JJv5eapCPwyj1aco8PEtoBkUbTZYIqxmYtqBk=</td>\n",
       "      <td>bo3jsx1beVLEZ+2sckxdZNYnlLpVS7hb5lWU2baQ66k=</td>\n",
       "      <td>KPJMQebU0O24+NzlQ4udb2BXLlKV1Hte61+hV5Xb+oU=</td>\n",
       "    </tr>\n",
       "    <tr>\n",
       "      <th>2</th>\n",
       "      <td>C2AT0OBTUn+PRxEVd39enhW/DJtka1Tk90DUAR6yVdA=</td>\n",
       "      <td>【基礎】雞兔問題 1</td>\n",
       "      <td>Exercise</td>\n",
       "      <td>easy</td>\n",
       "      <td>math</td>\n",
       "      <td>elementary</td>\n",
       "      <td>aH0Dz0KdH9gio7rrcGRHvrmd9vcd/0WJbeEFB7qeUKA=</td>\n",
       "      <td>ICgke8JJv5eapCPwyj1aco8PEtoBkUbTZYIqxmYtqBk=</td>\n",
       "      <td>bo3jsx1beVLEZ+2sckxdZNYnlLpVS7hb5lWU2baQ66k=</td>\n",
       "      <td>KPJMQebU0O24+NzlQ4udb2BXLlKV1Hte61+hV5Xb+oU=</td>\n",
       "    </tr>\n",
       "    <tr>\n",
       "      <th>3</th>\n",
       "      <td>jZvYpEa6VB/WrlKKmQHnfbv/xJ4OypBzq0epVcn500Q=</td>\n",
       "      <td>【基礎】年齡問題 1</td>\n",
       "      <td>Exercise</td>\n",
       "      <td>easy</td>\n",
       "      <td>math</td>\n",
       "      <td>elementary</td>\n",
       "      <td>aH0Dz0KdH9gio7rrcGRHvrmd9vcd/0WJbeEFB7qeUKA=</td>\n",
       "      <td>ICgke8JJv5eapCPwyj1aco8PEtoBkUbTZYIqxmYtqBk=</td>\n",
       "      <td>bo3jsx1beVLEZ+2sckxdZNYnlLpVS7hb5lWU2baQ66k=</td>\n",
       "      <td>KPJMQebU0O24+NzlQ4udb2BXLlKV1Hte61+hV5Xb+oU=</td>\n",
       "    </tr>\n",
       "    <tr>\n",
       "      <th>4</th>\n",
       "      <td>M+UxJPgRIW57a0YS3eik8A9YDj+AwaMpTa5yWYn/kAw=</td>\n",
       "      <td>【基礎】追趕問題</td>\n",
       "      <td>Exercise</td>\n",
       "      <td>easy</td>\n",
       "      <td>math</td>\n",
       "      <td>elementary</td>\n",
       "      <td>aH0Dz0KdH9gio7rrcGRHvrmd9vcd/0WJbeEFB7qeUKA=</td>\n",
       "      <td>ICgke8JJv5eapCPwyj1aco8PEtoBkUbTZYIqxmYtqBk=</td>\n",
       "      <td>bo3jsx1beVLEZ+2sckxdZNYnlLpVS7hb5lWU2baQ66k=</td>\n",
       "      <td>KPJMQebU0O24+NzlQ4udb2BXLlKV1Hte61+hV5Xb+oU=</td>\n",
       "    </tr>\n",
       "  </tbody>\n",
       "</table>\n",
       "</div>"
      ],
      "text/plain": [
       "                                           ucid content_pretty_name  \\\n",
       "0  odIwFdIiecFwVUAEEV40K3MSuCSlIZkbq92Zp9tkZq8=       【基礎】怎樣解題：數量關係   \n",
       "1  dfeeBaa8zDhWS6nu7zeXKwLyi4zqEajI3tJM9/fSBPM=          【基礎】和差問題 1   \n",
       "2  C2AT0OBTUn+PRxEVd39enhW/DJtka1Tk90DUAR6yVdA=          【基礎】雞兔問題 1   \n",
       "3  jZvYpEa6VB/WrlKKmQHnfbv/xJ4OypBzq0epVcn500Q=          【基礎】年齡問題 1   \n",
       "4  M+UxJPgRIW57a0YS3eik8A9YDj+AwaMpTa5yWYn/kAw=            【基礎】追趕問題   \n",
       "\n",
       "  content_kind difficulty subject learning_stage  \\\n",
       "0     Exercise       easy    math     elementary   \n",
       "1     Exercise       easy    math     elementary   \n",
       "2     Exercise       easy    math     elementary   \n",
       "3     Exercise       easy    math     elementary   \n",
       "4     Exercise       easy    math     elementary   \n",
       "\n",
       "                                      level1_id  \\\n",
       "0  aH0Dz0KdH9gio7rrcGRHvrmd9vcd/0WJbeEFB7qeUKA=   \n",
       "1  aH0Dz0KdH9gio7rrcGRHvrmd9vcd/0WJbeEFB7qeUKA=   \n",
       "2  aH0Dz0KdH9gio7rrcGRHvrmd9vcd/0WJbeEFB7qeUKA=   \n",
       "3  aH0Dz0KdH9gio7rrcGRHvrmd9vcd/0WJbeEFB7qeUKA=   \n",
       "4  aH0Dz0KdH9gio7rrcGRHvrmd9vcd/0WJbeEFB7qeUKA=   \n",
       "\n",
       "                                      level2_id  \\\n",
       "0  ICgke8JJv5eapCPwyj1aco8PEtoBkUbTZYIqxmYtqBk=   \n",
       "1  ICgke8JJv5eapCPwyj1aco8PEtoBkUbTZYIqxmYtqBk=   \n",
       "2  ICgke8JJv5eapCPwyj1aco8PEtoBkUbTZYIqxmYtqBk=   \n",
       "3  ICgke8JJv5eapCPwyj1aco8PEtoBkUbTZYIqxmYtqBk=   \n",
       "4  ICgke8JJv5eapCPwyj1aco8PEtoBkUbTZYIqxmYtqBk=   \n",
       "\n",
       "                                      level3_id  \\\n",
       "0  bo3jsx1beVLEZ+2sckxdZNYnlLpVS7hb5lWU2baQ66k=   \n",
       "1  bo3jsx1beVLEZ+2sckxdZNYnlLpVS7hb5lWU2baQ66k=   \n",
       "2  bo3jsx1beVLEZ+2sckxdZNYnlLpVS7hb5lWU2baQ66k=   \n",
       "3  bo3jsx1beVLEZ+2sckxdZNYnlLpVS7hb5lWU2baQ66k=   \n",
       "4  bo3jsx1beVLEZ+2sckxdZNYnlLpVS7hb5lWU2baQ66k=   \n",
       "\n",
       "                                      level4_id  \n",
       "0  KPJMQebU0O24+NzlQ4udb2BXLlKV1Hte61+hV5Xb+oU=  \n",
       "1  KPJMQebU0O24+NzlQ4udb2BXLlKV1Hte61+hV5Xb+oU=  \n",
       "2  KPJMQebU0O24+NzlQ4udb2BXLlKV1Hte61+hV5Xb+oU=  \n",
       "3  KPJMQebU0O24+NzlQ4udb2BXLlKV1Hte61+hV5Xb+oU=  \n",
       "4  KPJMQebU0O24+NzlQ4udb2BXLlKV1Hte61+hV5Xb+oU=  "
      ]
     },
     "execution_count": 11,
     "metadata": {},
     "output_type": "execute_result"
    }
   ],
   "source": [
    "df_InfoContent.head(5)"
   ]
  },
  {
   "cell_type": "code",
   "execution_count": 12,
   "metadata": {},
   "outputs": [
    {
     "data": {
      "application/vnd.jupyter.widget-view+json": {
       "model_id": "78aca5f67f864a499d7a7da74e73665a",
       "version_major": 2,
       "version_minor": 0
      },
      "text/plain": [
       "Summarize dataset:   0%|          | 0/5 [00:00<?, ?it/s]"
      ]
     },
     "metadata": {},
     "output_type": "display_data"
    },
    {
     "ename": "KeyboardInterrupt",
     "evalue": "",
     "output_type": "error",
     "traceback": [
      "\u001B[1;31m---------------------------------------------------------------------------\u001B[0m",
      "\u001B[1;31mIndexError\u001B[0m                                Traceback (most recent call last)",
      "\u001B[1;32m~\\AppData\\Local\\Programs\\Python\\Python38\\lib\\multiprocessing\\pool.py\u001B[0m in \u001B[0;36mnext\u001B[1;34m(self, timeout)\u001B[0m\n\u001B[0;32m    850\u001B[0m             \u001B[1;32mtry\u001B[0m\u001B[1;33m:\u001B[0m\u001B[1;33m\u001B[0m\u001B[1;33m\u001B[0m\u001B[0m\n\u001B[1;32m--> 851\u001B[1;33m                 \u001B[0mitem\u001B[0m \u001B[1;33m=\u001B[0m \u001B[0mself\u001B[0m\u001B[1;33m.\u001B[0m\u001B[0m_items\u001B[0m\u001B[1;33m.\u001B[0m\u001B[0mpopleft\u001B[0m\u001B[1;33m(\u001B[0m\u001B[1;33m)\u001B[0m\u001B[1;33m\u001B[0m\u001B[1;33m\u001B[0m\u001B[0m\n\u001B[0m\u001B[0;32m    852\u001B[0m             \u001B[1;32mexcept\u001B[0m \u001B[0mIndexError\u001B[0m\u001B[1;33m:\u001B[0m\u001B[1;33m\u001B[0m\u001B[1;33m\u001B[0m\u001B[0m\n",
      "\u001B[1;31mIndexError\u001B[0m: pop from an empty deque",
      "\nDuring handling of the above exception, another exception occurred:\n",
      "\u001B[1;31mKeyboardInterrupt\u001B[0m                         Traceback (most recent call last)",
      "\u001B[1;32m~\\AppData\\Local\\Temp/ipykernel_21808/1854275838.py\u001B[0m in \u001B[0;36m<module>\u001B[1;34m\u001B[0m\n\u001B[1;32m----> 1\u001B[1;33m \u001B[0mProfileReport\u001B[0m\u001B[1;33m(\u001B[0m\u001B[0mdf_LogProblem\u001B[0m\u001B[1;33m)\u001B[0m\u001B[1;33m\u001B[0m\u001B[1;33m\u001B[0m\u001B[0m\n\u001B[0m",
      "\u001B[1;32mc:\\Users\\Mads-\\Documents\\Universitet\\Kandidat\\1. Semester\\02471 Machine Learning and Signal Processing\\env02471\\lib\\site-packages\\IPython\\core\\displayhook.py\u001B[0m in \u001B[0;36m__call__\u001B[1;34m(self, result)\u001B[0m\n\u001B[0;32m    260\u001B[0m             \u001B[0mself\u001B[0m\u001B[1;33m.\u001B[0m\u001B[0mstart_displayhook\u001B[0m\u001B[1;33m(\u001B[0m\u001B[1;33m)\u001B[0m\u001B[1;33m\u001B[0m\u001B[1;33m\u001B[0m\u001B[0m\n\u001B[0;32m    261\u001B[0m             \u001B[0mself\u001B[0m\u001B[1;33m.\u001B[0m\u001B[0mwrite_output_prompt\u001B[0m\u001B[1;33m(\u001B[0m\u001B[1;33m)\u001B[0m\u001B[1;33m\u001B[0m\u001B[1;33m\u001B[0m\u001B[0m\n\u001B[1;32m--> 262\u001B[1;33m             \u001B[0mformat_dict\u001B[0m\u001B[1;33m,\u001B[0m \u001B[0mmd_dict\u001B[0m \u001B[1;33m=\u001B[0m \u001B[0mself\u001B[0m\u001B[1;33m.\u001B[0m\u001B[0mcompute_format_data\u001B[0m\u001B[1;33m(\u001B[0m\u001B[0mresult\u001B[0m\u001B[1;33m)\u001B[0m\u001B[1;33m\u001B[0m\u001B[1;33m\u001B[0m\u001B[0m\n\u001B[0m\u001B[0;32m    263\u001B[0m             \u001B[0mself\u001B[0m\u001B[1;33m.\u001B[0m\u001B[0mupdate_user_ns\u001B[0m\u001B[1;33m(\u001B[0m\u001B[0mresult\u001B[0m\u001B[1;33m)\u001B[0m\u001B[1;33m\u001B[0m\u001B[1;33m\u001B[0m\u001B[0m\n\u001B[0;32m    264\u001B[0m             \u001B[0mself\u001B[0m\u001B[1;33m.\u001B[0m\u001B[0mfill_exec_result\u001B[0m\u001B[1;33m(\u001B[0m\u001B[0mresult\u001B[0m\u001B[1;33m)\u001B[0m\u001B[1;33m\u001B[0m\u001B[1;33m\u001B[0m\u001B[0m\n",
      "\u001B[1;32mc:\\Users\\Mads-\\Documents\\Universitet\\Kandidat\\1. Semester\\02471 Machine Learning and Signal Processing\\env02471\\lib\\site-packages\\IPython\\core\\displayhook.py\u001B[0m in \u001B[0;36mcompute_format_data\u001B[1;34m(self, result)\u001B[0m\n\u001B[0;32m    149\u001B[0m \u001B[1;33m\u001B[0m\u001B[0m\n\u001B[0;32m    150\u001B[0m         \"\"\"\n\u001B[1;32m--> 151\u001B[1;33m         \u001B[1;32mreturn\u001B[0m \u001B[0mself\u001B[0m\u001B[1;33m.\u001B[0m\u001B[0mshell\u001B[0m\u001B[1;33m.\u001B[0m\u001B[0mdisplay_formatter\u001B[0m\u001B[1;33m.\u001B[0m\u001B[0mformat\u001B[0m\u001B[1;33m(\u001B[0m\u001B[0mresult\u001B[0m\u001B[1;33m)\u001B[0m\u001B[1;33m\u001B[0m\u001B[1;33m\u001B[0m\u001B[0m\n\u001B[0m\u001B[0;32m    152\u001B[0m \u001B[1;33m\u001B[0m\u001B[0m\n\u001B[0;32m    153\u001B[0m     \u001B[1;31m# This can be set to True by the write_output_prompt method in a subclass\u001B[0m\u001B[1;33m\u001B[0m\u001B[1;33m\u001B[0m\u001B[1;33m\u001B[0m\u001B[0m\n",
      "\u001B[1;32mc:\\Users\\Mads-\\Documents\\Universitet\\Kandidat\\1. Semester\\02471 Machine Learning and Signal Processing\\env02471\\lib\\site-packages\\IPython\\core\\formatters.py\u001B[0m in \u001B[0;36mformat\u001B[1;34m(self, obj, include, exclude)\u001B[0m\n\u001B[0;32m    178\u001B[0m             \u001B[0mmd\u001B[0m \u001B[1;33m=\u001B[0m \u001B[1;32mNone\u001B[0m\u001B[1;33m\u001B[0m\u001B[1;33m\u001B[0m\u001B[0m\n\u001B[0;32m    179\u001B[0m             \u001B[1;32mtry\u001B[0m\u001B[1;33m:\u001B[0m\u001B[1;33m\u001B[0m\u001B[1;33m\u001B[0m\u001B[0m\n\u001B[1;32m--> 180\u001B[1;33m                 \u001B[0mdata\u001B[0m \u001B[1;33m=\u001B[0m \u001B[0mformatter\u001B[0m\u001B[1;33m(\u001B[0m\u001B[0mobj\u001B[0m\u001B[1;33m)\u001B[0m\u001B[1;33m\u001B[0m\u001B[1;33m\u001B[0m\u001B[0m\n\u001B[0m\u001B[0;32m    181\u001B[0m             \u001B[1;32mexcept\u001B[0m\u001B[1;33m:\u001B[0m\u001B[1;33m\u001B[0m\u001B[1;33m\u001B[0m\u001B[0m\n\u001B[0;32m    182\u001B[0m                 \u001B[1;31m# FIXME: log the exception\u001B[0m\u001B[1;33m\u001B[0m\u001B[1;33m\u001B[0m\u001B[1;33m\u001B[0m\u001B[0m\n",
      "\u001B[1;32mc:\\Users\\Mads-\\Documents\\Universitet\\Kandidat\\1. Semester\\02471 Machine Learning and Signal Processing\\env02471\\lib\\site-packages\\decorator.py\u001B[0m in \u001B[0;36mfun\u001B[1;34m(*args, **kw)\u001B[0m\n\u001B[0;32m    230\u001B[0m             \u001B[1;32mif\u001B[0m \u001B[1;32mnot\u001B[0m \u001B[0mkwsyntax\u001B[0m\u001B[1;33m:\u001B[0m\u001B[1;33m\u001B[0m\u001B[1;33m\u001B[0m\u001B[0m\n\u001B[0;32m    231\u001B[0m                 \u001B[0margs\u001B[0m\u001B[1;33m,\u001B[0m \u001B[0mkw\u001B[0m \u001B[1;33m=\u001B[0m \u001B[0mfix\u001B[0m\u001B[1;33m(\u001B[0m\u001B[0margs\u001B[0m\u001B[1;33m,\u001B[0m \u001B[0mkw\u001B[0m\u001B[1;33m,\u001B[0m \u001B[0msig\u001B[0m\u001B[1;33m)\u001B[0m\u001B[1;33m\u001B[0m\u001B[1;33m\u001B[0m\u001B[0m\n\u001B[1;32m--> 232\u001B[1;33m             \u001B[1;32mreturn\u001B[0m \u001B[0mcaller\u001B[0m\u001B[1;33m(\u001B[0m\u001B[0mfunc\u001B[0m\u001B[1;33m,\u001B[0m \u001B[1;33m*\u001B[0m\u001B[1;33m(\u001B[0m\u001B[0mextras\u001B[0m \u001B[1;33m+\u001B[0m \u001B[0margs\u001B[0m\u001B[1;33m)\u001B[0m\u001B[1;33m,\u001B[0m \u001B[1;33m**\u001B[0m\u001B[0mkw\u001B[0m\u001B[1;33m)\u001B[0m\u001B[1;33m\u001B[0m\u001B[1;33m\u001B[0m\u001B[0m\n\u001B[0m\u001B[0;32m    233\u001B[0m     \u001B[0mfun\u001B[0m\u001B[1;33m.\u001B[0m\u001B[0m__name__\u001B[0m \u001B[1;33m=\u001B[0m \u001B[0mfunc\u001B[0m\u001B[1;33m.\u001B[0m\u001B[0m__name__\u001B[0m\u001B[1;33m\u001B[0m\u001B[1;33m\u001B[0m\u001B[0m\n\u001B[0;32m    234\u001B[0m     \u001B[0mfun\u001B[0m\u001B[1;33m.\u001B[0m\u001B[0m__doc__\u001B[0m \u001B[1;33m=\u001B[0m \u001B[0mfunc\u001B[0m\u001B[1;33m.\u001B[0m\u001B[0m__doc__\u001B[0m\u001B[1;33m\u001B[0m\u001B[1;33m\u001B[0m\u001B[0m\n",
      "\u001B[1;32mc:\\Users\\Mads-\\Documents\\Universitet\\Kandidat\\1. Semester\\02471 Machine Learning and Signal Processing\\env02471\\lib\\site-packages\\IPython\\core\\formatters.py\u001B[0m in \u001B[0;36mcatch_format_error\u001B[1;34m(method, self, *args, **kwargs)\u001B[0m\n\u001B[0;32m    222\u001B[0m     \u001B[1;34m\"\"\"show traceback on failed format call\"\"\"\u001B[0m\u001B[1;33m\u001B[0m\u001B[1;33m\u001B[0m\u001B[0m\n\u001B[0;32m    223\u001B[0m     \u001B[1;32mtry\u001B[0m\u001B[1;33m:\u001B[0m\u001B[1;33m\u001B[0m\u001B[1;33m\u001B[0m\u001B[0m\n\u001B[1;32m--> 224\u001B[1;33m         \u001B[0mr\u001B[0m \u001B[1;33m=\u001B[0m \u001B[0mmethod\u001B[0m\u001B[1;33m(\u001B[0m\u001B[0mself\u001B[0m\u001B[1;33m,\u001B[0m \u001B[1;33m*\u001B[0m\u001B[0margs\u001B[0m\u001B[1;33m,\u001B[0m \u001B[1;33m**\u001B[0m\u001B[0mkwargs\u001B[0m\u001B[1;33m)\u001B[0m\u001B[1;33m\u001B[0m\u001B[1;33m\u001B[0m\u001B[0m\n\u001B[0m\u001B[0;32m    225\u001B[0m     \u001B[1;32mexcept\u001B[0m \u001B[0mNotImplementedError\u001B[0m\u001B[1;33m:\u001B[0m\u001B[1;33m\u001B[0m\u001B[1;33m\u001B[0m\u001B[0m\n\u001B[0;32m    226\u001B[0m         \u001B[1;31m# don't warn on NotImplementedErrors\u001B[0m\u001B[1;33m\u001B[0m\u001B[1;33m\u001B[0m\u001B[1;33m\u001B[0m\u001B[0m\n",
      "\u001B[1;32mc:\\Users\\Mads-\\Documents\\Universitet\\Kandidat\\1. Semester\\02471 Machine Learning and Signal Processing\\env02471\\lib\\site-packages\\IPython\\core\\formatters.py\u001B[0m in \u001B[0;36m__call__\u001B[1;34m(self, obj)\u001B[0m\n\u001B[0;32m    343\u001B[0m             \u001B[0mmethod\u001B[0m \u001B[1;33m=\u001B[0m \u001B[0mget_real_method\u001B[0m\u001B[1;33m(\u001B[0m\u001B[0mobj\u001B[0m\u001B[1;33m,\u001B[0m \u001B[0mself\u001B[0m\u001B[1;33m.\u001B[0m\u001B[0mprint_method\u001B[0m\u001B[1;33m)\u001B[0m\u001B[1;33m\u001B[0m\u001B[1;33m\u001B[0m\u001B[0m\n\u001B[0;32m    344\u001B[0m             \u001B[1;32mif\u001B[0m \u001B[0mmethod\u001B[0m \u001B[1;32mis\u001B[0m \u001B[1;32mnot\u001B[0m \u001B[1;32mNone\u001B[0m\u001B[1;33m:\u001B[0m\u001B[1;33m\u001B[0m\u001B[1;33m\u001B[0m\u001B[0m\n\u001B[1;32m--> 345\u001B[1;33m                 \u001B[1;32mreturn\u001B[0m \u001B[0mmethod\u001B[0m\u001B[1;33m(\u001B[0m\u001B[1;33m)\u001B[0m\u001B[1;33m\u001B[0m\u001B[1;33m\u001B[0m\u001B[0m\n\u001B[0m\u001B[0;32m    346\u001B[0m             \u001B[1;32mreturn\u001B[0m \u001B[1;32mNone\u001B[0m\u001B[1;33m\u001B[0m\u001B[1;33m\u001B[0m\u001B[0m\n\u001B[0;32m    347\u001B[0m         \u001B[1;32melse\u001B[0m\u001B[1;33m:\u001B[0m\u001B[1;33m\u001B[0m\u001B[1;33m\u001B[0m\u001B[0m\n",
      "\u001B[1;32mc:\\Users\\Mads-\\Documents\\Universitet\\Kandidat\\1. Semester\\02471 Machine Learning and Signal Processing\\env02471\\lib\\site-packages\\pandas_profiling\\profile_report.py\u001B[0m in \u001B[0;36m_repr_html_\u001B[1;34m(self)\u001B[0m\n\u001B[0;32m    436\u001B[0m     \u001B[1;32mdef\u001B[0m \u001B[0m_repr_html_\u001B[0m\u001B[1;33m(\u001B[0m\u001B[0mself\u001B[0m\u001B[1;33m)\u001B[0m \u001B[1;33m->\u001B[0m \u001B[1;32mNone\u001B[0m\u001B[1;33m:\u001B[0m\u001B[1;33m\u001B[0m\u001B[1;33m\u001B[0m\u001B[0m\n\u001B[0;32m    437\u001B[0m         \u001B[1;34m\"\"\"The ipython notebook widgets user interface gets called by the jupyter notebook.\"\"\"\u001B[0m\u001B[1;33m\u001B[0m\u001B[1;33m\u001B[0m\u001B[0m\n\u001B[1;32m--> 438\u001B[1;33m         \u001B[0mself\u001B[0m\u001B[1;33m.\u001B[0m\u001B[0mto_notebook_iframe\u001B[0m\u001B[1;33m(\u001B[0m\u001B[1;33m)\u001B[0m\u001B[1;33m\u001B[0m\u001B[1;33m\u001B[0m\u001B[0m\n\u001B[0m\u001B[0;32m    439\u001B[0m \u001B[1;33m\u001B[0m\u001B[0m\n\u001B[0;32m    440\u001B[0m     \u001B[1;32mdef\u001B[0m \u001B[0m__repr__\u001B[0m\u001B[1;33m(\u001B[0m\u001B[0mself\u001B[0m\u001B[1;33m)\u001B[0m \u001B[1;33m->\u001B[0m \u001B[0mstr\u001B[0m\u001B[1;33m:\u001B[0m\u001B[1;33m\u001B[0m\u001B[1;33m\u001B[0m\u001B[0m\n",
      "\u001B[1;32mc:\\Users\\Mads-\\Documents\\Universitet\\Kandidat\\1. Semester\\02471 Machine Learning and Signal Processing\\env02471\\lib\\site-packages\\pandas_profiling\\profile_report.py\u001B[0m in \u001B[0;36mto_notebook_iframe\u001B[1;34m(self)\u001B[0m\n\u001B[0;32m    416\u001B[0m         \u001B[1;32mwith\u001B[0m \u001B[0mwarnings\u001B[0m\u001B[1;33m.\u001B[0m\u001B[0mcatch_warnings\u001B[0m\u001B[1;33m(\u001B[0m\u001B[1;33m)\u001B[0m\u001B[1;33m:\u001B[0m\u001B[1;33m\u001B[0m\u001B[1;33m\u001B[0m\u001B[0m\n\u001B[0;32m    417\u001B[0m             \u001B[0mwarnings\u001B[0m\u001B[1;33m.\u001B[0m\u001B[0msimplefilter\u001B[0m\u001B[1;33m(\u001B[0m\u001B[1;34m\"ignore\"\u001B[0m\u001B[1;33m)\u001B[0m\u001B[1;33m\u001B[0m\u001B[1;33m\u001B[0m\u001B[0m\n\u001B[1;32m--> 418\u001B[1;33m             \u001B[0mdisplay\u001B[0m\u001B[1;33m(\u001B[0m\u001B[0mget_notebook_iframe\u001B[0m\u001B[1;33m(\u001B[0m\u001B[0mself\u001B[0m\u001B[1;33m.\u001B[0m\u001B[0mconfig\u001B[0m\u001B[1;33m,\u001B[0m \u001B[0mself\u001B[0m\u001B[1;33m)\u001B[0m\u001B[1;33m)\u001B[0m\u001B[1;33m\u001B[0m\u001B[1;33m\u001B[0m\u001B[0m\n\u001B[0m\u001B[0;32m    419\u001B[0m \u001B[1;33m\u001B[0m\u001B[0m\n\u001B[0;32m    420\u001B[0m     \u001B[1;32mdef\u001B[0m \u001B[0mto_widgets\u001B[0m\u001B[1;33m(\u001B[0m\u001B[0mself\u001B[0m\u001B[1;33m)\u001B[0m \u001B[1;33m->\u001B[0m \u001B[1;32mNone\u001B[0m\u001B[1;33m:\u001B[0m\u001B[1;33m\u001B[0m\u001B[1;33m\u001B[0m\u001B[0m\n",
      "\u001B[1;32mc:\\Users\\Mads-\\Documents\\Universitet\\Kandidat\\1. Semester\\02471 Machine Learning and Signal Processing\\env02471\\lib\\site-packages\\pandas_profiling\\report\\presentation\\flavours\\widget\\notebook.py\u001B[0m in \u001B[0;36mget_notebook_iframe\u001B[1;34m(config, profile)\u001B[0m\n\u001B[0;32m     73\u001B[0m         \u001B[0moutput\u001B[0m \u001B[1;33m=\u001B[0m \u001B[0mget_notebook_iframe_src\u001B[0m\u001B[1;33m(\u001B[0m\u001B[0mconfig\u001B[0m\u001B[1;33m,\u001B[0m \u001B[0mprofile\u001B[0m\u001B[1;33m)\u001B[0m\u001B[1;33m\u001B[0m\u001B[1;33m\u001B[0m\u001B[0m\n\u001B[0;32m     74\u001B[0m     \u001B[1;32melif\u001B[0m \u001B[0mattribute\u001B[0m \u001B[1;33m==\u001B[0m \u001B[0mIframeAttribute\u001B[0m\u001B[1;33m.\u001B[0m\u001B[0msrcdoc\u001B[0m\u001B[1;33m:\u001B[0m\u001B[1;33m\u001B[0m\u001B[1;33m\u001B[0m\u001B[0m\n\u001B[1;32m---> 75\u001B[1;33m         \u001B[0moutput\u001B[0m \u001B[1;33m=\u001B[0m \u001B[0mget_notebook_iframe_srcdoc\u001B[0m\u001B[1;33m(\u001B[0m\u001B[0mconfig\u001B[0m\u001B[1;33m,\u001B[0m \u001B[0mprofile\u001B[0m\u001B[1;33m)\u001B[0m\u001B[1;33m\u001B[0m\u001B[1;33m\u001B[0m\u001B[0m\n\u001B[0m\u001B[0;32m     76\u001B[0m     \u001B[1;32melse\u001B[0m\u001B[1;33m:\u001B[0m\u001B[1;33m\u001B[0m\u001B[1;33m\u001B[0m\u001B[0m\n\u001B[0;32m     77\u001B[0m         raise ValueError(\n",
      "\u001B[1;32mc:\\Users\\Mads-\\Documents\\Universitet\\Kandidat\\1. Semester\\02471 Machine Learning and Signal Processing\\env02471\\lib\\site-packages\\pandas_profiling\\report\\presentation\\flavours\\widget\\notebook.py\u001B[0m in \u001B[0;36mget_notebook_iframe_srcdoc\u001B[1;34m(config, profile)\u001B[0m\n\u001B[0;32m     27\u001B[0m     \u001B[0mwidth\u001B[0m \u001B[1;33m=\u001B[0m \u001B[0mconfig\u001B[0m\u001B[1;33m.\u001B[0m\u001B[0mnotebook\u001B[0m\u001B[1;33m.\u001B[0m\u001B[0miframe\u001B[0m\u001B[1;33m.\u001B[0m\u001B[0mwidth\u001B[0m\u001B[1;33m\u001B[0m\u001B[1;33m\u001B[0m\u001B[0m\n\u001B[0;32m     28\u001B[0m     \u001B[0mheight\u001B[0m \u001B[1;33m=\u001B[0m \u001B[0mconfig\u001B[0m\u001B[1;33m.\u001B[0m\u001B[0mnotebook\u001B[0m\u001B[1;33m.\u001B[0m\u001B[0miframe\u001B[0m\u001B[1;33m.\u001B[0m\u001B[0mheight\u001B[0m\u001B[1;33m\u001B[0m\u001B[1;33m\u001B[0m\u001B[0m\n\u001B[1;32m---> 29\u001B[1;33m     \u001B[0msrc\u001B[0m \u001B[1;33m=\u001B[0m \u001B[0mhtml\u001B[0m\u001B[1;33m.\u001B[0m\u001B[0mescape\u001B[0m\u001B[1;33m(\u001B[0m\u001B[0mprofile\u001B[0m\u001B[1;33m.\u001B[0m\u001B[0mto_html\u001B[0m\u001B[1;33m(\u001B[0m\u001B[1;33m)\u001B[0m\u001B[1;33m)\u001B[0m\u001B[1;33m\u001B[0m\u001B[1;33m\u001B[0m\u001B[0m\n\u001B[0m\u001B[0;32m     30\u001B[0m \u001B[1;33m\u001B[0m\u001B[0m\n\u001B[0;32m     31\u001B[0m     \u001B[0miframe\u001B[0m \u001B[1;33m=\u001B[0m \u001B[1;34mf'<iframe width=\"{width}\" height=\"{height}\" srcdoc=\"{src}\" frameborder=\"0\" allowfullscreen></iframe>'\u001B[0m\u001B[1;33m\u001B[0m\u001B[1;33m\u001B[0m\u001B[0m\n",
      "\u001B[1;32mc:\\Users\\Mads-\\Documents\\Universitet\\Kandidat\\1. Semester\\02471 Machine Learning and Signal Processing\\env02471\\lib\\site-packages\\pandas_profiling\\profile_report.py\u001B[0m in \u001B[0;36mto_html\u001B[1;34m(self)\u001B[0m\n\u001B[0;32m    386\u001B[0m \u001B[1;33m\u001B[0m\u001B[0m\n\u001B[0;32m    387\u001B[0m         \"\"\"\n\u001B[1;32m--> 388\u001B[1;33m         \u001B[1;32mreturn\u001B[0m \u001B[0mself\u001B[0m\u001B[1;33m.\u001B[0m\u001B[0mhtml\u001B[0m\u001B[1;33m\u001B[0m\u001B[1;33m\u001B[0m\u001B[0m\n\u001B[0m\u001B[0;32m    389\u001B[0m \u001B[1;33m\u001B[0m\u001B[0m\n\u001B[0;32m    390\u001B[0m     \u001B[1;32mdef\u001B[0m \u001B[0mto_json\u001B[0m\u001B[1;33m(\u001B[0m\u001B[0mself\u001B[0m\u001B[1;33m)\u001B[0m \u001B[1;33m->\u001B[0m \u001B[0mstr\u001B[0m\u001B[1;33m:\u001B[0m\u001B[1;33m\u001B[0m\u001B[1;33m\u001B[0m\u001B[0m\n",
      "\u001B[1;32mc:\\Users\\Mads-\\Documents\\Universitet\\Kandidat\\1. Semester\\02471 Machine Learning and Signal Processing\\env02471\\lib\\site-packages\\pandas_profiling\\profile_report.py\u001B[0m in \u001B[0;36mhtml\u001B[1;34m(self)\u001B[0m\n\u001B[0;32m    203\u001B[0m     \u001B[1;32mdef\u001B[0m \u001B[0mhtml\u001B[0m\u001B[1;33m(\u001B[0m\u001B[0mself\u001B[0m\u001B[1;33m)\u001B[0m \u001B[1;33m->\u001B[0m \u001B[0mstr\u001B[0m\u001B[1;33m:\u001B[0m\u001B[1;33m\u001B[0m\u001B[1;33m\u001B[0m\u001B[0m\n\u001B[0;32m    204\u001B[0m         \u001B[1;32mif\u001B[0m \u001B[0mself\u001B[0m\u001B[1;33m.\u001B[0m\u001B[0m_html\u001B[0m \u001B[1;32mis\u001B[0m \u001B[1;32mNone\u001B[0m\u001B[1;33m:\u001B[0m\u001B[1;33m\u001B[0m\u001B[1;33m\u001B[0m\u001B[0m\n\u001B[1;32m--> 205\u001B[1;33m             \u001B[0mself\u001B[0m\u001B[1;33m.\u001B[0m\u001B[0m_html\u001B[0m \u001B[1;33m=\u001B[0m \u001B[0mself\u001B[0m\u001B[1;33m.\u001B[0m\u001B[0m_render_html\u001B[0m\u001B[1;33m(\u001B[0m\u001B[1;33m)\u001B[0m\u001B[1;33m\u001B[0m\u001B[1;33m\u001B[0m\u001B[0m\n\u001B[0m\u001B[0;32m    206\u001B[0m         \u001B[1;32mreturn\u001B[0m \u001B[0mself\u001B[0m\u001B[1;33m.\u001B[0m\u001B[0m_html\u001B[0m\u001B[1;33m\u001B[0m\u001B[1;33m\u001B[0m\u001B[0m\n\u001B[0;32m    207\u001B[0m \u001B[1;33m\u001B[0m\u001B[0m\n",
      "\u001B[1;32mc:\\Users\\Mads-\\Documents\\Universitet\\Kandidat\\1. Semester\\02471 Machine Learning and Signal Processing\\env02471\\lib\\site-packages\\pandas_profiling\\profile_report.py\u001B[0m in \u001B[0;36m_render_html\u001B[1;34m(self)\u001B[0m\n\u001B[0;32m    305\u001B[0m         \u001B[1;32mfrom\u001B[0m \u001B[0mpandas_profiling\u001B[0m\u001B[1;33m.\u001B[0m\u001B[0mreport\u001B[0m\u001B[1;33m.\u001B[0m\u001B[0mpresentation\u001B[0m\u001B[1;33m.\u001B[0m\u001B[0mflavours\u001B[0m \u001B[1;32mimport\u001B[0m \u001B[0mHTMLReport\u001B[0m\u001B[1;33m\u001B[0m\u001B[1;33m\u001B[0m\u001B[0m\n\u001B[0;32m    306\u001B[0m \u001B[1;33m\u001B[0m\u001B[0m\n\u001B[1;32m--> 307\u001B[1;33m         \u001B[0mreport\u001B[0m \u001B[1;33m=\u001B[0m \u001B[0mself\u001B[0m\u001B[1;33m.\u001B[0m\u001B[0mreport\u001B[0m\u001B[1;33m\u001B[0m\u001B[1;33m\u001B[0m\u001B[0m\n\u001B[0m\u001B[0;32m    308\u001B[0m \u001B[1;33m\u001B[0m\u001B[0m\n\u001B[0;32m    309\u001B[0m         with tqdm(\n",
      "\u001B[1;32mc:\\Users\\Mads-\\Documents\\Universitet\\Kandidat\\1. Semester\\02471 Machine Learning and Signal Processing\\env02471\\lib\\site-packages\\pandas_profiling\\profile_report.py\u001B[0m in \u001B[0;36mreport\u001B[1;34m(self)\u001B[0m\n\u001B[0;32m    197\u001B[0m     \u001B[1;32mdef\u001B[0m \u001B[0mreport\u001B[0m\u001B[1;33m(\u001B[0m\u001B[0mself\u001B[0m\u001B[1;33m)\u001B[0m \u001B[1;33m->\u001B[0m \u001B[0mRoot\u001B[0m\u001B[1;33m:\u001B[0m\u001B[1;33m\u001B[0m\u001B[1;33m\u001B[0m\u001B[0m\n\u001B[0;32m    198\u001B[0m         \u001B[1;32mif\u001B[0m \u001B[0mself\u001B[0m\u001B[1;33m.\u001B[0m\u001B[0m_report\u001B[0m \u001B[1;32mis\u001B[0m \u001B[1;32mNone\u001B[0m\u001B[1;33m:\u001B[0m\u001B[1;33m\u001B[0m\u001B[1;33m\u001B[0m\u001B[0m\n\u001B[1;32m--> 199\u001B[1;33m             \u001B[0mself\u001B[0m\u001B[1;33m.\u001B[0m\u001B[0m_report\u001B[0m \u001B[1;33m=\u001B[0m \u001B[0mget_report_structure\u001B[0m\u001B[1;33m(\u001B[0m\u001B[0mself\u001B[0m\u001B[1;33m.\u001B[0m\u001B[0mconfig\u001B[0m\u001B[1;33m,\u001B[0m \u001B[0mself\u001B[0m\u001B[1;33m.\u001B[0m\u001B[0mdescription_set\u001B[0m\u001B[1;33m)\u001B[0m\u001B[1;33m\u001B[0m\u001B[1;33m\u001B[0m\u001B[0m\n\u001B[0m\u001B[0;32m    200\u001B[0m         \u001B[1;32mreturn\u001B[0m \u001B[0mself\u001B[0m\u001B[1;33m.\u001B[0m\u001B[0m_report\u001B[0m\u001B[1;33m\u001B[0m\u001B[1;33m\u001B[0m\u001B[0m\n\u001B[0;32m    201\u001B[0m \u001B[1;33m\u001B[0m\u001B[0m\n",
      "\u001B[1;32mc:\\Users\\Mads-\\Documents\\Universitet\\Kandidat\\1. Semester\\02471 Machine Learning and Signal Processing\\env02471\\lib\\site-packages\\pandas_profiling\\profile_report.py\u001B[0m in \u001B[0;36mdescription_set\u001B[1;34m(self)\u001B[0m\n\u001B[0;32m    179\u001B[0m     \u001B[1;32mdef\u001B[0m \u001B[0mdescription_set\u001B[0m\u001B[1;33m(\u001B[0m\u001B[0mself\u001B[0m\u001B[1;33m)\u001B[0m \u001B[1;33m->\u001B[0m \u001B[0mDict\u001B[0m\u001B[1;33m[\u001B[0m\u001B[0mstr\u001B[0m\u001B[1;33m,\u001B[0m \u001B[0mAny\u001B[0m\u001B[1;33m]\u001B[0m\u001B[1;33m:\u001B[0m\u001B[1;33m\u001B[0m\u001B[1;33m\u001B[0m\u001B[0m\n\u001B[0;32m    180\u001B[0m         \u001B[1;32mif\u001B[0m \u001B[0mself\u001B[0m\u001B[1;33m.\u001B[0m\u001B[0m_description_set\u001B[0m \u001B[1;32mis\u001B[0m \u001B[1;32mNone\u001B[0m\u001B[1;33m:\u001B[0m\u001B[1;33m\u001B[0m\u001B[1;33m\u001B[0m\u001B[0m\n\u001B[1;32m--> 181\u001B[1;33m             self._description_set = describe_df(\n\u001B[0m\u001B[0;32m    182\u001B[0m                 \u001B[0mself\u001B[0m\u001B[1;33m.\u001B[0m\u001B[0mconfig\u001B[0m\u001B[1;33m,\u001B[0m\u001B[1;33m\u001B[0m\u001B[1;33m\u001B[0m\u001B[0m\n\u001B[0;32m    183\u001B[0m                 \u001B[0mself\u001B[0m\u001B[1;33m.\u001B[0m\u001B[0mdf\u001B[0m\u001B[1;33m,\u001B[0m\u001B[1;33m\u001B[0m\u001B[1;33m\u001B[0m\u001B[0m\n",
      "\u001B[1;32mc:\\Users\\Mads-\\Documents\\Universitet\\Kandidat\\1. Semester\\02471 Machine Learning and Signal Processing\\env02471\\lib\\site-packages\\pandas_profiling\\model\\describe.py\u001B[0m in \u001B[0;36mdescribe\u001B[1;34m(config, df, summarizer, typeset, sample)\u001B[0m\n\u001B[0;32m     69\u001B[0m         \u001B[1;31m# Variable-specific\u001B[0m\u001B[1;33m\u001B[0m\u001B[1;33m\u001B[0m\u001B[1;33m\u001B[0m\u001B[0m\n\u001B[0;32m     70\u001B[0m         \u001B[0mpbar\u001B[0m\u001B[1;33m.\u001B[0m\u001B[0mtotal\u001B[0m \u001B[1;33m+=\u001B[0m \u001B[0mlen\u001B[0m\u001B[1;33m(\u001B[0m\u001B[0mdf\u001B[0m\u001B[1;33m.\u001B[0m\u001B[0mcolumns\u001B[0m\u001B[1;33m)\u001B[0m\u001B[1;33m\u001B[0m\u001B[1;33m\u001B[0m\u001B[0m\n\u001B[1;32m---> 71\u001B[1;33m         series_description = get_series_descriptions(\n\u001B[0m\u001B[0;32m     72\u001B[0m             \u001B[0mconfig\u001B[0m\u001B[1;33m,\u001B[0m \u001B[0mdf\u001B[0m\u001B[1;33m,\u001B[0m \u001B[0msummarizer\u001B[0m\u001B[1;33m,\u001B[0m \u001B[0mtypeset\u001B[0m\u001B[1;33m,\u001B[0m \u001B[0mpbar\u001B[0m\u001B[1;33m\u001B[0m\u001B[1;33m\u001B[0m\u001B[0m\n\u001B[0;32m     73\u001B[0m         )\n",
      "\u001B[1;32mc:\\Users\\Mads-\\Documents\\Universitet\\Kandidat\\1. Semester\\02471 Machine Learning and Signal Processing\\env02471\\lib\\site-packages\\multimethod\\__init__.py\u001B[0m in \u001B[0;36m__call__\u001B[1;34m(self, *args, **kwargs)\u001B[0m\n\u001B[0;32m    310\u001B[0m         \u001B[0mfunc\u001B[0m \u001B[1;33m=\u001B[0m \u001B[0mself\u001B[0m\u001B[1;33m[\u001B[0m\u001B[0mtuple\u001B[0m\u001B[1;33m(\u001B[0m\u001B[0mfunc\u001B[0m\u001B[1;33m(\u001B[0m\u001B[0marg\u001B[0m\u001B[1;33m)\u001B[0m \u001B[1;32mfor\u001B[0m \u001B[0mfunc\u001B[0m\u001B[1;33m,\u001B[0m \u001B[0marg\u001B[0m \u001B[1;32min\u001B[0m \u001B[0mzip\u001B[0m\u001B[1;33m(\u001B[0m\u001B[0mself\u001B[0m\u001B[1;33m.\u001B[0m\u001B[0mtype_checkers\u001B[0m\u001B[1;33m,\u001B[0m \u001B[0margs\u001B[0m\u001B[1;33m)\u001B[0m\u001B[1;33m)\u001B[0m\u001B[1;33m]\u001B[0m\u001B[1;33m\u001B[0m\u001B[1;33m\u001B[0m\u001B[0m\n\u001B[0;32m    311\u001B[0m         \u001B[1;32mtry\u001B[0m\u001B[1;33m:\u001B[0m\u001B[1;33m\u001B[0m\u001B[1;33m\u001B[0m\u001B[0m\n\u001B[1;32m--> 312\u001B[1;33m             \u001B[1;32mreturn\u001B[0m \u001B[0mfunc\u001B[0m\u001B[1;33m(\u001B[0m\u001B[1;33m*\u001B[0m\u001B[0margs\u001B[0m\u001B[1;33m,\u001B[0m \u001B[1;33m**\u001B[0m\u001B[0mkwargs\u001B[0m\u001B[1;33m)\u001B[0m\u001B[1;33m\u001B[0m\u001B[1;33m\u001B[0m\u001B[0m\n\u001B[0m\u001B[0;32m    313\u001B[0m         \u001B[1;32mexcept\u001B[0m \u001B[0mTypeError\u001B[0m \u001B[1;32mas\u001B[0m \u001B[0mex\u001B[0m\u001B[1;33m:\u001B[0m\u001B[1;33m\u001B[0m\u001B[1;33m\u001B[0m\u001B[0m\n\u001B[0;32m    314\u001B[0m             \u001B[1;32mraise\u001B[0m \u001B[0mDispatchError\u001B[0m\u001B[1;33m(\u001B[0m\u001B[1;34mf\"Function {func.__code__}\"\u001B[0m\u001B[1;33m)\u001B[0m \u001B[1;32mfrom\u001B[0m \u001B[0mex\u001B[0m\u001B[1;33m\u001B[0m\u001B[1;33m\u001B[0m\u001B[0m\n",
      "\u001B[1;32mc:\\Users\\Mads-\\Documents\\Universitet\\Kandidat\\1. Semester\\02471 Machine Learning and Signal Processing\\env02471\\lib\\site-packages\\pandas_profiling\\model\\pandas\\summary_pandas.py\u001B[0m in \u001B[0;36mpandas_get_series_descriptions\u001B[1;34m(config, df, summarizer, typeset, pbar)\u001B[0m\n\u001B[0;32m     90\u001B[0m         \u001B[1;31m# TODO: use `Pool` for Linux-based systems\u001B[0m\u001B[1;33m\u001B[0m\u001B[1;33m\u001B[0m\u001B[1;33m\u001B[0m\u001B[0m\n\u001B[0;32m     91\u001B[0m         \u001B[1;32mwith\u001B[0m \u001B[0mmultiprocessing\u001B[0m\u001B[1;33m.\u001B[0m\u001B[0mpool\u001B[0m\u001B[1;33m.\u001B[0m\u001B[0mThreadPool\u001B[0m\u001B[1;33m(\u001B[0m\u001B[0mpool_size\u001B[0m\u001B[1;33m)\u001B[0m \u001B[1;32mas\u001B[0m \u001B[0mexecutor\u001B[0m\u001B[1;33m:\u001B[0m\u001B[1;33m\u001B[0m\u001B[1;33m\u001B[0m\u001B[0m\n\u001B[1;32m---> 92\u001B[1;33m             for i, (column, description) in enumerate(\n\u001B[0m\u001B[0;32m     93\u001B[0m                 \u001B[0mexecutor\u001B[0m\u001B[1;33m.\u001B[0m\u001B[0mimap_unordered\u001B[0m\u001B[1;33m(\u001B[0m\u001B[0mmultiprocess_1d\u001B[0m\u001B[1;33m,\u001B[0m \u001B[0margs\u001B[0m\u001B[1;33m)\u001B[0m\u001B[1;33m\u001B[0m\u001B[1;33m\u001B[0m\u001B[0m\n\u001B[0;32m     94\u001B[0m             ):\n",
      "\u001B[1;32m~\\AppData\\Local\\Programs\\Python\\Python38\\lib\\multiprocessing\\pool.py\u001B[0m in \u001B[0;36mnext\u001B[1;34m(self, timeout)\u001B[0m\n\u001B[0;32m    854\u001B[0m                     \u001B[0mself\u001B[0m\u001B[1;33m.\u001B[0m\u001B[0m_pool\u001B[0m \u001B[1;33m=\u001B[0m \u001B[1;32mNone\u001B[0m\u001B[1;33m\u001B[0m\u001B[1;33m\u001B[0m\u001B[0m\n\u001B[0;32m    855\u001B[0m                     \u001B[1;32mraise\u001B[0m \u001B[0mStopIteration\u001B[0m \u001B[1;32mfrom\u001B[0m \u001B[1;32mNone\u001B[0m\u001B[1;33m\u001B[0m\u001B[1;33m\u001B[0m\u001B[0m\n\u001B[1;32m--> 856\u001B[1;33m                 \u001B[0mself\u001B[0m\u001B[1;33m.\u001B[0m\u001B[0m_cond\u001B[0m\u001B[1;33m.\u001B[0m\u001B[0mwait\u001B[0m\u001B[1;33m(\u001B[0m\u001B[0mtimeout\u001B[0m\u001B[1;33m)\u001B[0m\u001B[1;33m\u001B[0m\u001B[1;33m\u001B[0m\u001B[0m\n\u001B[0m\u001B[0;32m    857\u001B[0m                 \u001B[1;32mtry\u001B[0m\u001B[1;33m:\u001B[0m\u001B[1;33m\u001B[0m\u001B[1;33m\u001B[0m\u001B[0m\n\u001B[0;32m    858\u001B[0m                     \u001B[0mitem\u001B[0m \u001B[1;33m=\u001B[0m \u001B[0mself\u001B[0m\u001B[1;33m.\u001B[0m\u001B[0m_items\u001B[0m\u001B[1;33m.\u001B[0m\u001B[0mpopleft\u001B[0m\u001B[1;33m(\u001B[0m\u001B[1;33m)\u001B[0m\u001B[1;33m\u001B[0m\u001B[1;33m\u001B[0m\u001B[0m\n",
      "\u001B[1;32m~\\AppData\\Local\\Programs\\Python\\Python38\\lib\\threading.py\u001B[0m in \u001B[0;36mwait\u001B[1;34m(self, timeout)\u001B[0m\n\u001B[0;32m    300\u001B[0m         \u001B[1;32mtry\u001B[0m\u001B[1;33m:\u001B[0m    \u001B[1;31m# restore state no matter what (e.g., KeyboardInterrupt)\u001B[0m\u001B[1;33m\u001B[0m\u001B[1;33m\u001B[0m\u001B[0m\n\u001B[0;32m    301\u001B[0m             \u001B[1;32mif\u001B[0m \u001B[0mtimeout\u001B[0m \u001B[1;32mis\u001B[0m \u001B[1;32mNone\u001B[0m\u001B[1;33m:\u001B[0m\u001B[1;33m\u001B[0m\u001B[1;33m\u001B[0m\u001B[0m\n\u001B[1;32m--> 302\u001B[1;33m                 \u001B[0mwaiter\u001B[0m\u001B[1;33m.\u001B[0m\u001B[0macquire\u001B[0m\u001B[1;33m(\u001B[0m\u001B[1;33m)\u001B[0m\u001B[1;33m\u001B[0m\u001B[1;33m\u001B[0m\u001B[0m\n\u001B[0m\u001B[0;32m    303\u001B[0m                 \u001B[0mgotit\u001B[0m \u001B[1;33m=\u001B[0m \u001B[1;32mTrue\u001B[0m\u001B[1;33m\u001B[0m\u001B[1;33m\u001B[0m\u001B[0m\n\u001B[0;32m    304\u001B[0m             \u001B[1;32melse\u001B[0m\u001B[1;33m:\u001B[0m\u001B[1;33m\u001B[0m\u001B[1;33m\u001B[0m\u001B[0m\n",
      "\u001B[1;31mKeyboardInterrupt\u001B[0m: "
     ]
    }
   ],
   "source": [
    "ProfileReport(df_LogProblem)"
   ]
  },
  {
   "cell_type": "code",
   "execution_count": 13,
   "metadata": {},
   "outputs": [
    {
     "data": {
      "text/plain": [
       "<AxesSubplot:>"
      ]
     },
     "execution_count": 13,
     "metadata": {},
     "output_type": "execute_result"
    },
    {
     "data": {
      "image/png": "[encoded data removed]",
      "text/plain": [
       "<Figure size 720x432 with 1 Axes>"
      ]
     },
     "metadata": {
      "needs_background": "light"
     },
     "output_type": "display_data"
    }
   ],
   "source": [
    "df_LogProblem[\"level\"].value_counts().plot.bar()"
   ]
  },
  {
   "cell_type": "code",
   "execution_count": 14,
   "metadata": {},
   "outputs": [
    {
     "data": {
      "text/plain": [
       "<AxesSubplot:>"
      ]
     },
     "execution_count": 14,
     "metadata": {},
     "output_type": "execute_result"
    },
    {
     "data": {
      "image/png": "[encoded data removed]",
      "text/plain": [
       "<Figure size 720x432 with 1 Axes>"
      ]
     },
     "metadata": {
      "needs_background": "light"
     },
     "output_type": "display_data"
    }
   ],
   "source": [
    "df_InfoUser[\"gender\"].value_counts().plot.bar()"
   ]
  },
  {
   "cell_type": "code",
   "execution_count": null,
   "metadata": {},
   "outputs": [],
   "source": [
    "df_elem = df_InfoUser[(df_InfoUser['user_grade'] > 0) & (df_InfoUser['user_grade'] < 7)]\n",
    "df_elem.describe()"
   ]
  },
  {
   "cell_type": "code",
   "execution_count": null,
   "metadata": {},
   "outputs": [],
   "source": []
  }
 ],
 "metadata": {
  "kernelspec": {
   "display_name": "02471",
   "language": "python",
   "name": "02471"
  },
  "language_info": {
   "codemirror_mode": {
    "name": "ipython",
    "version": 3
   },
   "file_extension": ".py",
   "mimetype": "text/x-python",
   "name": "python",
   "nbconvert_exporter": "python",
   "pygments_lexer": "ipython3",
   "version": "3.8.6"
  },
  "vscode": {
   "interpreter": {
    "hash": "22e6ae95cdd02c91590ab00482168049a0edebefcbfbad080c161b4c46795cde"
   }
  }
 },
 "nbformat": 4,
 "nbformat_minor": 1
}
